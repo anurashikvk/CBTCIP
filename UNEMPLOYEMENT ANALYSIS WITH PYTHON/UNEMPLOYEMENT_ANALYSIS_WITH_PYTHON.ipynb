{
  "nbformat": 4,
  "nbformat_minor": 0,
  "metadata": {
    "colab": {
      "provenance": []
    },
    "kernelspec": {
      "name": "python3",
      "display_name": "Python 3"
    },
    "language_info": {
      "name": "python"
    }
  },
  "cells": [
    {
      "cell_type": "markdown",
      "source": [
        "# MUHAMMED ANU RASHIK VK"
      ],
      "metadata": {
        "id": "xoVAeAUY8Qjs"
      }
    },
    {
      "cell_type": "code",
      "execution_count": null,
      "metadata": {
        "colab": {
          "base_uri": "https://localhost:8080/",
          "height": 204
        },
        "id": "bHtUAZwPdcSo",
        "outputId": "23739630-75ca-47d2-cd99-37c100e49d98"
      },
      "outputs": [
        {
          "output_type": "execute_result",
          "data": {
            "text/plain": [
              "           Region        Date Frequency  Estimated Unemployment Rate (%)  \\\n",
              "0  Andhra Pradesh  31-05-2019   Monthly                             3.65   \n",
              "1  Andhra Pradesh  30-06-2019   Monthly                             3.05   \n",
              "2  Andhra Pradesh  31-07-2019   Monthly                             3.75   \n",
              "3  Andhra Pradesh  31-08-2019   Monthly                             3.32   \n",
              "4  Andhra Pradesh  30-09-2019   Monthly                             5.17   \n",
              "\n",
              "   Estimated Employed  Estimated Labour Participation Rate (%)   Area  \n",
              "0          11999139.0                                    43.24  Rural  \n",
              "1          11755881.0                                    42.05  Rural  \n",
              "2          12086707.0                                    43.50  Rural  \n",
              "3          12285693.0                                    43.97  Rural  \n",
              "4          12256762.0                                    44.68  Rural  "
            ],
            "text/html": [
              "\n",
              "  <div id=\"df-f88ab0fc-0d15-4745-bb30-4e17e1e9e89e\" class=\"colab-df-container\">\n",
              "    <div>\n",
              "<style scoped>\n",
              "    .dataframe tbody tr th:only-of-type {\n",
              "        vertical-align: middle;\n",
              "    }\n",
              "\n",
              "    .dataframe tbody tr th {\n",
              "        vertical-align: top;\n",
              "    }\n",
              "\n",
              "    .dataframe thead th {\n",
              "        text-align: right;\n",
              "    }\n",
              "</style>\n",
              "<table border=\"1\" class=\"dataframe\">\n",
              "  <thead>\n",
              "    <tr style=\"text-align: right;\">\n",
              "      <th></th>\n",
              "      <th>Region</th>\n",
              "      <th>Date</th>\n",
              "      <th>Frequency</th>\n",
              "      <th>Estimated Unemployment Rate (%)</th>\n",
              "      <th>Estimated Employed</th>\n",
              "      <th>Estimated Labour Participation Rate (%)</th>\n",
              "      <th>Area</th>\n",
              "    </tr>\n",
              "  </thead>\n",
              "  <tbody>\n",
              "    <tr>\n",
              "      <th>0</th>\n",
              "      <td>Andhra Pradesh</td>\n",
              "      <td>31-05-2019</td>\n",
              "      <td>Monthly</td>\n",
              "      <td>3.65</td>\n",
              "      <td>11999139.0</td>\n",
              "      <td>43.24</td>\n",
              "      <td>Rural</td>\n",
              "    </tr>\n",
              "    <tr>\n",
              "      <th>1</th>\n",
              "      <td>Andhra Pradesh</td>\n",
              "      <td>30-06-2019</td>\n",
              "      <td>Monthly</td>\n",
              "      <td>3.05</td>\n",
              "      <td>11755881.0</td>\n",
              "      <td>42.05</td>\n",
              "      <td>Rural</td>\n",
              "    </tr>\n",
              "    <tr>\n",
              "      <th>2</th>\n",
              "      <td>Andhra Pradesh</td>\n",
              "      <td>31-07-2019</td>\n",
              "      <td>Monthly</td>\n",
              "      <td>3.75</td>\n",
              "      <td>12086707.0</td>\n",
              "      <td>43.50</td>\n",
              "      <td>Rural</td>\n",
              "    </tr>\n",
              "    <tr>\n",
              "      <th>3</th>\n",
              "      <td>Andhra Pradesh</td>\n",
              "      <td>31-08-2019</td>\n",
              "      <td>Monthly</td>\n",
              "      <td>3.32</td>\n",
              "      <td>12285693.0</td>\n",
              "      <td>43.97</td>\n",
              "      <td>Rural</td>\n",
              "    </tr>\n",
              "    <tr>\n",
              "      <th>4</th>\n",
              "      <td>Andhra Pradesh</td>\n",
              "      <td>30-09-2019</td>\n",
              "      <td>Monthly</td>\n",
              "      <td>5.17</td>\n",
              "      <td>12256762.0</td>\n",
              "      <td>44.68</td>\n",
              "      <td>Rural</td>\n",
              "    </tr>\n",
              "  </tbody>\n",
              "</table>\n",
              "</div>\n",
              "    <div class=\"colab-df-buttons\">\n",
              "\n",
              "  <div class=\"colab-df-container\">\n",
              "    <button class=\"colab-df-convert\" onclick=\"convertToInteractive('df-f88ab0fc-0d15-4745-bb30-4e17e1e9e89e')\"\n",
              "            title=\"Convert this dataframe to an interactive table.\"\n",
              "            style=\"display:none;\">\n",
              "\n",
              "  <svg xmlns=\"http://www.w3.org/2000/svg\" height=\"24px\" viewBox=\"0 -960 960 960\">\n",
              "    <path d=\"M120-120v-720h720v720H120Zm60-500h600v-160H180v160Zm220 220h160v-160H400v160Zm0 220h160v-160H400v160ZM180-400h160v-160H180v160Zm440 0h160v-160H620v160ZM180-180h160v-160H180v160Zm440 0h160v-160H620v160Z\"/>\n",
              "  </svg>\n",
              "    </button>\n",
              "\n",
              "  <style>\n",
              "    .colab-df-container {\n",
              "      display:flex;\n",
              "      gap: 12px;\n",
              "    }\n",
              "\n",
              "    .colab-df-convert {\n",
              "      background-color: #E8F0FE;\n",
              "      border: none;\n",
              "      border-radius: 50%;\n",
              "      cursor: pointer;\n",
              "      display: none;\n",
              "      fill: #1967D2;\n",
              "      height: 32px;\n",
              "      padding: 0 0 0 0;\n",
              "      width: 32px;\n",
              "    }\n",
              "\n",
              "    .colab-df-convert:hover {\n",
              "      background-color: #E2EBFA;\n",
              "      box-shadow: 0px 1px 2px rgba(60, 64, 67, 0.3), 0px 1px 3px 1px rgba(60, 64, 67, 0.15);\n",
              "      fill: #174EA6;\n",
              "    }\n",
              "\n",
              "    .colab-df-buttons div {\n",
              "      margin-bottom: 4px;\n",
              "    }\n",
              "\n",
              "    [theme=dark] .colab-df-convert {\n",
              "      background-color: #3B4455;\n",
              "      fill: #D2E3FC;\n",
              "    }\n",
              "\n",
              "    [theme=dark] .colab-df-convert:hover {\n",
              "      background-color: #434B5C;\n",
              "      box-shadow: 0px 1px 3px 1px rgba(0, 0, 0, 0.15);\n",
              "      filter: drop-shadow(0px 1px 2px rgba(0, 0, 0, 0.3));\n",
              "      fill: #FFFFFF;\n",
              "    }\n",
              "  </style>\n",
              "\n",
              "    <script>\n",
              "      const buttonEl =\n",
              "        document.querySelector('#df-f88ab0fc-0d15-4745-bb30-4e17e1e9e89e button.colab-df-convert');\n",
              "      buttonEl.style.display =\n",
              "        google.colab.kernel.accessAllowed ? 'block' : 'none';\n",
              "\n",
              "      async function convertToInteractive(key) {\n",
              "        const element = document.querySelector('#df-f88ab0fc-0d15-4745-bb30-4e17e1e9e89e');\n",
              "        const dataTable =\n",
              "          await google.colab.kernel.invokeFunction('convertToInteractive',\n",
              "                                                    [key], {});\n",
              "        if (!dataTable) return;\n",
              "\n",
              "        const docLinkHtml = 'Like what you see? Visit the ' +\n",
              "          '<a target=\"_blank\" href=https://colab.research.google.com/notebooks/data_table.ipynb>data table notebook</a>'\n",
              "          + ' to learn more about interactive tables.';\n",
              "        element.innerHTML = '';\n",
              "        dataTable['output_type'] = 'display_data';\n",
              "        await google.colab.output.renderOutput(dataTable, element);\n",
              "        const docLink = document.createElement('div');\n",
              "        docLink.innerHTML = docLinkHtml;\n",
              "        element.appendChild(docLink);\n",
              "      }\n",
              "    </script>\n",
              "  </div>\n",
              "\n",
              "\n",
              "<div id=\"df-b580eddb-2501-4921-b275-27c2ef7ed5ff\">\n",
              "  <button class=\"colab-df-quickchart\" onclick=\"quickchart('df-b580eddb-2501-4921-b275-27c2ef7ed5ff')\"\n",
              "            title=\"Suggest charts\"\n",
              "            style=\"display:none;\">\n",
              "\n",
              "<svg xmlns=\"http://www.w3.org/2000/svg\" height=\"24px\"viewBox=\"0 0 24 24\"\n",
              "     width=\"24px\">\n",
              "    <g>\n",
              "        <path d=\"M19 3H5c-1.1 0-2 .9-2 2v14c0 1.1.9 2 2 2h14c1.1 0 2-.9 2-2V5c0-1.1-.9-2-2-2zM9 17H7v-7h2v7zm4 0h-2V7h2v10zm4 0h-2v-4h2v4z\"/>\n",
              "    </g>\n",
              "</svg>\n",
              "  </button>\n",
              "\n",
              "<style>\n",
              "  .colab-df-quickchart {\n",
              "      --bg-color: #E8F0FE;\n",
              "      --fill-color: #1967D2;\n",
              "      --hover-bg-color: #E2EBFA;\n",
              "      --hover-fill-color: #174EA6;\n",
              "      --disabled-fill-color: #AAA;\n",
              "      --disabled-bg-color: #DDD;\n",
              "  }\n",
              "\n",
              "  [theme=dark] .colab-df-quickchart {\n",
              "      --bg-color: #3B4455;\n",
              "      --fill-color: #D2E3FC;\n",
              "      --hover-bg-color: #434B5C;\n",
              "      --hover-fill-color: #FFFFFF;\n",
              "      --disabled-bg-color: #3B4455;\n",
              "      --disabled-fill-color: #666;\n",
              "  }\n",
              "\n",
              "  .colab-df-quickchart {\n",
              "    background-color: var(--bg-color);\n",
              "    border: none;\n",
              "    border-radius: 50%;\n",
              "    cursor: pointer;\n",
              "    display: none;\n",
              "    fill: var(--fill-color);\n",
              "    height: 32px;\n",
              "    padding: 0;\n",
              "    width: 32px;\n",
              "  }\n",
              "\n",
              "  .colab-df-quickchart:hover {\n",
              "    background-color: var(--hover-bg-color);\n",
              "    box-shadow: 0 1px 2px rgba(60, 64, 67, 0.3), 0 1px 3px 1px rgba(60, 64, 67, 0.15);\n",
              "    fill: var(--button-hover-fill-color);\n",
              "  }\n",
              "\n",
              "  .colab-df-quickchart-complete:disabled,\n",
              "  .colab-df-quickchart-complete:disabled:hover {\n",
              "    background-color: var(--disabled-bg-color);\n",
              "    fill: var(--disabled-fill-color);\n",
              "    box-shadow: none;\n",
              "  }\n",
              "\n",
              "  .colab-df-spinner {\n",
              "    border: 2px solid var(--fill-color);\n",
              "    border-color: transparent;\n",
              "    border-bottom-color: var(--fill-color);\n",
              "    animation:\n",
              "      spin 1s steps(1) infinite;\n",
              "  }\n",
              "\n",
              "  @keyframes spin {\n",
              "    0% {\n",
              "      border-color: transparent;\n",
              "      border-bottom-color: var(--fill-color);\n",
              "      border-left-color: var(--fill-color);\n",
              "    }\n",
              "    20% {\n",
              "      border-color: transparent;\n",
              "      border-left-color: var(--fill-color);\n",
              "      border-top-color: var(--fill-color);\n",
              "    }\n",
              "    30% {\n",
              "      border-color: transparent;\n",
              "      border-left-color: var(--fill-color);\n",
              "      border-top-color: var(--fill-color);\n",
              "      border-right-color: var(--fill-color);\n",
              "    }\n",
              "    40% {\n",
              "      border-color: transparent;\n",
              "      border-right-color: var(--fill-color);\n",
              "      border-top-color: var(--fill-color);\n",
              "    }\n",
              "    60% {\n",
              "      border-color: transparent;\n",
              "      border-right-color: var(--fill-color);\n",
              "    }\n",
              "    80% {\n",
              "      border-color: transparent;\n",
              "      border-right-color: var(--fill-color);\n",
              "      border-bottom-color: var(--fill-color);\n",
              "    }\n",
              "    90% {\n",
              "      border-color: transparent;\n",
              "      border-bottom-color: var(--fill-color);\n",
              "    }\n",
              "  }\n",
              "</style>\n",
              "\n",
              "  <script>\n",
              "    async function quickchart(key) {\n",
              "      const quickchartButtonEl =\n",
              "        document.querySelector('#' + key + ' button');\n",
              "      quickchartButtonEl.disabled = true;  // To prevent multiple clicks.\n",
              "      quickchartButtonEl.classList.add('colab-df-spinner');\n",
              "      try {\n",
              "        const charts = await google.colab.kernel.invokeFunction(\n",
              "            'suggestCharts', [key], {});\n",
              "      } catch (error) {\n",
              "        console.error('Error during call to suggestCharts:', error);\n",
              "      }\n",
              "      quickchartButtonEl.classList.remove('colab-df-spinner');\n",
              "      quickchartButtonEl.classList.add('colab-df-quickchart-complete');\n",
              "    }\n",
              "    (() => {\n",
              "      let quickchartButtonEl =\n",
              "        document.querySelector('#df-b580eddb-2501-4921-b275-27c2ef7ed5ff button');\n",
              "      quickchartButtonEl.style.display =\n",
              "        google.colab.kernel.accessAllowed ? 'block' : 'none';\n",
              "    })();\n",
              "  </script>\n",
              "</div>\n",
              "\n",
              "    </div>\n",
              "  </div>\n"
            ],
            "application/vnd.google.colaboratory.intrinsic+json": {
              "type": "dataframe",
              "variable_name": "unemployment_data",
              "summary": "{\n  \"name\": \"unemployment_data\",\n  \"rows\": 754,\n  \"fields\": [\n    {\n      \"column\": \"Region\",\n      \"properties\": {\n        \"dtype\": \"category\",\n        \"num_unique_values\": 28,\n        \"samples\": [\n          \"Jammu & Kashmir\",\n          \"Uttarakhand\",\n          \"Himachal Pradesh\"\n        ],\n        \"semantic_type\": \"\",\n        \"description\": \"\"\n      }\n    },\n    {\n      \"column\": \"Date\",\n      \"properties\": {\n        \"dtype\": \"object\",\n        \"num_unique_values\": 14,\n        \"samples\": [\n          \"29-02-2020\",\n          \"30-04-2020\",\n          \"31-05-2019\"\n        ],\n        \"semantic_type\": \"\",\n        \"description\": \"\"\n      }\n    },\n    {\n      \"column\": \"Frequency\",\n      \"properties\": {\n        \"dtype\": \"category\",\n        \"num_unique_values\": 1,\n        \"samples\": [\n          \"Monthly\"\n        ],\n        \"semantic_type\": \"\",\n        \"description\": \"\"\n      }\n    },\n    {\n      \"column\": \"Estimated Unemployment Rate (%)\",\n      \"properties\": {\n        \"dtype\": \"number\",\n        \"std\": 10.721298373157786,\n        \"min\": 0.0,\n        \"max\": 76.74,\n        \"num_unique_values\": 624,\n        \"samples\": [\n          22.01\n        ],\n        \"semantic_type\": \"\",\n        \"description\": \"\"\n      }\n    },\n    {\n      \"column\": \"Estimated Employed\",\n      \"properties\": {\n        \"dtype\": \"number\",\n        \"std\": 8087988.429457784,\n        \"min\": 49420.0,\n        \"max\": 45777509.0,\n        \"num_unique_values\": 740,\n        \"samples\": [\n          1732050.0\n        ],\n        \"semantic_type\": \"\",\n        \"description\": \"\"\n      }\n    },\n    {\n      \"column\": \"Estimated Labour Participation Rate (%)\",\n      \"properties\": {\n        \"dtype\": \"number\",\n        \"std\": 8.111094365865874,\n        \"min\": 13.33,\n        \"max\": 72.57,\n        \"num_unique_values\": 626,\n        \"samples\": [\n          47.8\n        ],\n        \"semantic_type\": \"\",\n        \"description\": \"\"\n      }\n    },\n    {\n      \"column\": \"Area\",\n      \"properties\": {\n        \"dtype\": \"category\",\n        \"num_unique_values\": 2,\n        \"samples\": [\n          \"Urban\"\n        ],\n        \"semantic_type\": \"\",\n        \"description\": \"\"\n      }\n    }\n  ]\n}"
            }
          },
          "metadata": {},
          "execution_count": 31
        }
      ],
      "source": [
        "import pandas as pd\n",
        "import matplotlib.pyplot as plt\n",
        "import seaborn as sns\n",
        "from statsmodels.tsa.seasonal import seasonal_decompose\n",
        "from statsmodels.tsa.holtwinters import ExponentialSmoothing\n",
        "\n",
        "# Load the dataset\n",
        "url = '/content/drive/MyDrive/data sets/CipherByte Internship/Unemployment in India.xlsx'  # Replace with the actual path to the dataset\n",
        "unemployment_data = pd.read_excel(url)\n",
        "\n",
        "# Display the first few rows of the dataset\n",
        "unemployment_data.head()\n",
        "\n"
      ]
    },
    {
      "cell_type": "code",
      "source": [
        "unemployment_data.info()"
      ],
      "metadata": {
        "id": "h3hB1_rZeUyY",
        "colab": {
          "base_uri": "https://localhost:8080/"
        },
        "outputId": "34832a6a-7b3e-459a-9e46-ef1b229d9051"
      },
      "execution_count": null,
      "outputs": [
        {
          "output_type": "stream",
          "name": "stdout",
          "text": [
            "<class 'pandas.core.frame.DataFrame'>\n",
            "RangeIndex: 754 entries, 0 to 753\n",
            "Data columns (total 7 columns):\n",
            " #   Column                                   Non-Null Count  Dtype  \n",
            "---  ------                                   --------------  -----  \n",
            " 0   Region                                   740 non-null    object \n",
            " 1   Date                                     740 non-null    object \n",
            " 2   Frequency                                740 non-null    object \n",
            " 3   Estimated Unemployment Rate (%)          740 non-null    float64\n",
            " 4   Estimated Employed                       740 non-null    float64\n",
            " 5   Estimated Labour Participation Rate (%)  740 non-null    float64\n",
            " 6   Area                                     740 non-null    object \n",
            "dtypes: float64(3), object(4)\n",
            "memory usage: 41.4+ KB\n"
          ]
        }
      ]
    },
    {
      "cell_type": "markdown",
      "source": [
        "# 1. Data Cleaning and Preprocessing:"
      ],
      "metadata": {
        "id": "UVC3F5niwReX"
      }
    },
    {
      "cell_type": "code",
      "source": [
        "# Convert 'Date' column to datetime format\n",
        "unemployment_data['Date'] = pd.to_datetime(unemployment_data['Date'])\n",
        "\n",
        "# Drop rows with missing values\n",
        "unemployment_data.dropna(inplace=True)\n",
        "\n",
        "# Check for duplicates\n",
        "print(\"Number of duplicate rows:\", unemployment_data.duplicated().sum())\n",
        "\n",
        "# Drop duplicates if any\n",
        "unemployment_data.drop_duplicates(inplace=True)\n",
        "\n",
        "# Check for data types and missing values again\n",
        "print(unemployment_data.info())\n"
      ],
      "metadata": {
        "colab": {
          "base_uri": "https://localhost:8080/"
        },
        "id": "XaEz8Jvej4AZ",
        "outputId": "7e5d0cbb-1c48-48c5-d2e5-6b202b5160b7"
      },
      "execution_count": null,
      "outputs": [
        {
          "output_type": "stream",
          "name": "stdout",
          "text": [
            "Number of duplicate rows: 0\n",
            "<class 'pandas.core.frame.DataFrame'>\n",
            "Index: 740 entries, 0 to 753\n",
            "Data columns (total 7 columns):\n",
            " #   Column                                   Non-Null Count  Dtype         \n",
            "---  ------                                   --------------  -----         \n",
            " 0   Region                                   740 non-null    object        \n",
            " 1   Date                                     740 non-null    datetime64[ns]\n",
            " 2   Frequency                                740 non-null    object        \n",
            " 3   Estimated Unemployment Rate (%)          740 non-null    float64       \n",
            " 4   Estimated Employed                       740 non-null    float64       \n",
            " 5   Estimated Labour Participation Rate (%)  740 non-null    float64       \n",
            " 6   Area                                     740 non-null    object        \n",
            "dtypes: datetime64[ns](1), float64(3), object(3)\n",
            "memory usage: 46.2+ KB\n",
            "None\n"
          ]
        },
        {
          "output_type": "stream",
          "name": "stderr",
          "text": [
            "<ipython-input-33-a2d4bc54e258>:2: UserWarning: Parsing dates in %d-%m-%Y format when dayfirst=False (the default) was specified. Pass `dayfirst=True` or specify a format to silence this warning.\n",
            "  unemployment_data['Date'] = pd.to_datetime(unemployment_data['Date'])\n"
          ]
        }
      ]
    },
    {
      "cell_type": "markdown",
      "source": [
        "# 2. Data Exploration and Visualization:"
      ],
      "metadata": {
        "id": "7Y6ZvXln4jOT"
      }
    },
    {
      "cell_type": "code",
      "source": [
        "import matplotlib.pyplot as plt\n",
        "\n",
        "# Grouping data by date and calculating the average unemployment rate\n",
        "average_unemployment_rate = unemployment_data.groupby('Date')['Estimated Unemployment Rate (%)'].mean()\n",
        "\n",
        "# Plotting average unemployment rate over time\n",
        "plt.figure(figsize=(10, 6))\n",
        "plt.plot(average_unemployment_rate.index, average_unemployment_rate.values)\n",
        "plt.title('Average Estimated Unemployment Rate Over Time')\n",
        "plt.xlabel('Date')\n",
        "plt.ylabel('Average Estimated Unemployment Rate (%)')\n",
        "plt.grid(True)\n",
        "plt.show()\n"
      ],
      "metadata": {
        "colab": {
          "base_uri": "https://localhost:8080/",
          "height": 564
        },
        "id": "ssxLKjoZwrew",
        "outputId": "6c446082-3197-48b5-91e6-59cf503a356b"
      },
      "execution_count": null,
      "outputs": [
        {
          "output_type": "display_data",
          "data": {
            "text/plain": [
              "<Figure size 1000x600 with 1 Axes>"
            ],
            "image/png": "[encoded data removed]"
          },
          "metadata": {}
        }
      ]
    },
    {
      "cell_type": "markdown",
      "source": [
        "# Implement ARIMA modeling for forecasting:"
      ],
      "metadata": {
        "id": "GO1nbTGx4_EP"
      }
    },
    {
      "cell_type": "code",
      "source": [
        "from statsmodels.tsa.arima.model import ARIMA\n",
        "\n",
        "# Fit ARIMA model\n",
        "model = ARIMA(average_unemployment_rate, order=(1,1,1))  # You may need to adjust the order parameter based on data analysis\n",
        "results = model.fit()\n",
        "\n",
        "# Summary of the model\n",
        "print(results.summary())\n",
        "\n",
        "# Forecasting\n",
        "forecast_steps = 12  # Forecasting for the next 12 months\n",
        "forecast = results.forecast(steps=forecast_steps)\n",
        "print(\"Forecasted values:\", forecast)\n"
      ],
      "metadata": {
        "colab": {
          "base_uri": "https://localhost:8080/"
        },
        "id": "0in9tdvaxhhK",
        "outputId": "263e9a07-8a43-4376-a32d-4fbac3a4a3ea"
      },
      "execution_count": null,
      "outputs": [
        {
          "output_type": "stream",
          "name": "stderr",
          "text": [
            "/usr/local/lib/python3.10/dist-packages/statsmodels/tsa/base/tsa_model.py:473: ValueWarning: No frequency information was provided, so inferred frequency M will be used.\n",
            "  self._init_dates(dates, freq)\n",
            "/usr/local/lib/python3.10/dist-packages/statsmodels/tsa/base/tsa_model.py:473: ValueWarning: No frequency information was provided, so inferred frequency M will be used.\n",
            "  self._init_dates(dates, freq)\n",
            "/usr/local/lib/python3.10/dist-packages/statsmodels/tsa/base/tsa_model.py:473: ValueWarning: No frequency information was provided, so inferred frequency M will be used.\n",
            "  self._init_dates(dates, freq)\n",
            "/usr/local/lib/python3.10/dist-packages/statsmodels/tsa/statespace/sarimax.py:966: UserWarning: Non-stationary starting autoregressive parameters found. Using zeros as starting parameters.\n",
            "  warn('Non-stationary starting autoregressive parameters'\n",
            "/usr/local/lib/python3.10/dist-packages/statsmodels/tsa/statespace/sarimax.py:978: UserWarning: Non-invertible starting MA parameters found. Using zeros as starting parameters.\n",
            "  warn('Non-invertible starting MA parameters found.'\n"
          ]
        },
        {
          "output_type": "stream",
          "name": "stdout",
          "text": [
            "                                      SARIMAX Results                                      \n",
            "===========================================================================================\n",
            "Dep. Variable:     Estimated Unemployment Rate (%)   No. Observations:                   14\n",
            "Model:                              ARIMA(1, 1, 1)   Log Likelihood                 -38.201\n",
            "Date:                             Fri, 31 May 2024   AIC                             82.403\n",
            "Time:                                     17:56:33   BIC                             84.098\n",
            "Sample:                                 05-31-2019   HQIC                            82.055\n",
            "                                      - 06-30-2020                                         \n",
            "Covariance Type:                               opg                                         \n",
            "==============================================================================\n",
            "                 coef    std err          z      P>|z|      [0.025      0.975]\n",
            "------------------------------------------------------------------------------\n",
            "ar.L1         -0.4223      0.813     -0.520      0.603      -2.016       1.171\n",
            "ma.L1          0.9987     46.656      0.021      0.983     -90.446      92.444\n",
            "sigma2        18.1609    836.603      0.022      0.983   -1621.550    1657.872\n",
            "===================================================================================\n",
            "Ljung-Box (L1) (Q):                   0.16   Jarque-Bera (JB):                 8.73\n",
            "Prob(Q):                              0.69   Prob(JB):                         0.01\n",
            "Heteroskedasticity (H):             146.39   Skew:                             1.27\n",
            "Prob(H) (two-sided):                  0.00   Kurtosis:                         6.11\n",
            "===================================================================================\n",
            "\n",
            "Warnings:\n",
            "[1] Covariance matrix calculated using the outer product of gradients (complex-step).\n",
            "Forecasted values: 2020-07-31    10.221989\n",
            "2020-08-31    10.932138\n",
            "2020-09-30    10.632240\n",
            "2020-10-31    10.758888\n",
            "2020-11-30    10.705404\n",
            "2020-12-31    10.727991\n",
            "2021-01-31    10.718452\n",
            "2021-02-28    10.722480\n",
            "2021-03-31    10.720779\n",
            "2021-04-30    10.721498\n",
            "2021-05-31    10.721194\n",
            "2021-06-30    10.721322\n",
            "Freq: M, Name: predicted_mean, dtype: float64\n"
          ]
        }
      ]
    },
    {
      "cell_type": "code",
      "source": [
        "# Plot actual and forecasted values\n",
        "plt.figure(figsize=(10, 6))\n",
        "plt.plot(average_unemployment_rate.index, average_unemployment_rate, label='Actual')\n",
        "plt.plot(forecast.index, forecast, label='Forecast', linestyle='--', color='red')\n",
        "plt.title('Forecasted vs. Actual Unemployment Rate')\n",
        "plt.xlabel('Date')\n",
        "plt.ylabel('Rate (%)')\n",
        "plt.legend()\n",
        "plt.grid(True)\n",
        "plt.show()\n"
      ],
      "metadata": {
        "colab": {
          "base_uri": "https://localhost:8080/",
          "height": 564
        },
        "id": "pQ6hsDIxy83g",
        "outputId": "8ea3af4c-0a39-43f5-831a-4230681e5a1f"
      },
      "execution_count": null,
      "outputs": [
        {
          "output_type": "display_data",
          "data": {
            "text/plain": [
              "<Figure size 1000x600 with 1 Axes>"
            ],
            "image/png": "[encoded data removed]"
          },
          "metadata": {}
        }
      ]
    },
    {
      "cell_type": "code",
      "source": [
        "from sklearn.metrics import mean_absolute_error, mean_squared_error\n",
        "import numpy as np\n",
        "\n",
        "# Calculate performance metrics\n",
        "mae = mean_absolute_error(average_unemployment_rate[-forecast_steps:], forecast)\n",
        "mse = mean_squared_error(average_unemployment_rate[-forecast_steps:], forecast)\n",
        "rmse = np.sqrt(mse)\n",
        "\n",
        "print(\"Mean Absolute Error (MAE):\", mae)\n",
        "print(\"Mean Squared Error (MSE):\", mse)\n",
        "print(\"Root Mean Squared Error (RMSE):\", rmse)\n"
      ],
      "metadata": {
        "colab": {
          "base_uri": "https://localhost:8080/"
        },
        "id": "4St5qBBu0GeM",
        "outputId": "6d487759-7a59-4576-c4c8-06bf9eca0599"
      },
      "execution_count": null,
      "outputs": [
        {
          "output_type": "stream",
          "name": "stdout",
          "text": [
            "Mean Absolute Error (MAE): 3.065882258690823\n",
            "Mean Squared Error (MSE): 31.53036057859695\n",
            "Root Mean Squared Error (RMSE): 5.615190164063631\n"
          ]
        }
      ]
    },
    {
      "cell_type": "markdown",
      "source": [
        "### Model Evaluation:\n",
        "\n",
        "After fitting the ARIMA model and generating forecasts for the unemployment rate, we evaluated the performance of the model using the following metrics:\n",
        "\n",
        "- **Mean Absolute Error (MAE):** The MAE measures the average magnitude of errors between the forecasted values and the actual values. In our analysis, the MAE was found to be approximately 3.07, indicating that, on average, the forecasted unemployment rate deviated by about 3.07 percentage points from the actual rate.\n",
        "\n",
        "- **Mean Squared Error (MSE):** The MSE calculates the average of the squared differences between the forecasted and actual values. The MSE obtained in our analysis was approximately 31.53, representing the average squared error between the forecasted and actual unemployment rates.\n",
        "\n",
        "- **Root Mean Squared Error (RMSE):** The RMSE is the square root of the MSE and provides a measure of the model's prediction error. Our analysis resulted in an RMSE of approximately 5.62, indicating the average magnitude of the forecast error.\n",
        "\n",
        "These performance metrics provide valuable insights into the accuracy of the ARIMA model in forecasting the unemployment rate. While the model demonstrates reasonable performance based on these metrics, further refinement and evaluation may be necessary to improve forecasting accuracy.\n"
      ],
      "metadata": {
        "id": "iC-NXYDK5-7t"
      }
    },
    {
      "cell_type": "code",
      "source": [],
      "metadata": {
        "id": "r_guAvNBJgRL"
      },
      "execution_count": null,
      "outputs": []
    },
    {
      "cell_type": "markdown",
      "source": [],
      "metadata": {
        "id": "Rw6UT6jrJcIg"
      }
    }
  ]
}